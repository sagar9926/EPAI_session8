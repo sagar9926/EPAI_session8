{
  "nbformat": 4,
  "nbformat_minor": 0,
  "metadata": {
    "colab": {
      "name": "Session8 Quiz.ipynb",
      "provenance": [],
      "authorship_tag": "ABX9TyMp6gQi1AHnK4COxWt2JtA8",
      "include_colab_link": true
    },
    "kernelspec": {
      "name": "python3",
      "display_name": "Python 3"
    }
  },
  "cells": [
    {
      "cell_type": "markdown",
      "metadata": {
        "id": "view-in-github",
        "colab_type": "text"
      },
      "source": [
        "<a href=\"https://colab.research.google.com/github/sagar9926/EPAI_session8/blob/master/Session8_Quiz.ipynb\" target=\"_parent\"><img src=\"https://colab.research.google.com/assets/colab-badge.svg\" alt=\"Open In Colab\"/></a>"
      ]
    },
    {
      "cell_type": "markdown",
      "metadata": {
        "id": "NP9NM8Y-YW5A",
        "colab_type": "text"
      },
      "source": [
        "# Session 8 Quiz"
      ]
    },
    {
      "cell_type": "markdown",
      "metadata": {
        "id": "bKrxuVU0YS_2",
        "colab_type": "text"
      },
      "source": [
        "A webpage has 4 buttons - 1, 2, 3, 4. \n",
        "\n",
        "Write a fn/closure such that we can track how many times each button was pressed. To simulate different users, pass on/maintain separate dictionaries. \n",
        "\n",
        "Assume a function called onClick(4) will be called when 4th button is pressed, and so on. "
      ]
    },
    {
      "cell_type": "code",
      "metadata": {
        "id": "eX7Q7ozLUsEI",
        "colab_type": "code",
        "colab": {}
      },
      "source": [
        "user_1 = {'Name' : 'User1',1:0,2:0,3:0,4:0}\n",
        "user_2 = {'Name' : 'User2',1:0,2:0,3:0,4:0}"
      ],
      "execution_count": 1,
      "outputs": []
    },
    {
      "cell_type": "code",
      "metadata": {
        "id": "KSdMsxVUUzoT",
        "colab_type": "code",
        "colab": {}
      },
      "source": [
        "def counter_dict(user):\n",
        "    \"\"\" This function can keep a track of how many times add/mul/div functions were called,\n",
        "    and update a dictionary , specific to a user, with the counts\"\"\"\n",
        "    def inner(button):\n",
        "        nonlocal user\n",
        "        user[button] += 1\n",
        "        print(user['Name'] + \" pressed button  \" + str(button) +\"   \"+ str(user[button]) + \" times\")\n",
        "        print(user)\n",
        "    return inner"
      ],
      "execution_count": 2,
      "outputs": []
    },
    {
      "cell_type": "code",
      "metadata": {
        "id": "wXnfFf1QVGxZ",
        "colab_type": "code",
        "colab": {}
      },
      "source": [
        "User1_onClick = counter_dict(user_1)"
      ],
      "execution_count": 3,
      "outputs": []
    },
    {
      "cell_type": "code",
      "metadata": {
        "id": "Lyg_sARJVMN0",
        "colab_type": "code",
        "colab": {
          "base_uri": "https://localhost:8080/",
          "height": 50
        },
        "outputId": "18cdbdb3-fdb7-4b18-cfe6-f98c64068283"
      },
      "source": [
        "User1_onClick(1)"
      ],
      "execution_count": 4,
      "outputs": [
        {
          "output_type": "stream",
          "text": [
            "User1 pressed button  1   1 times\n",
            "{'Name': 'User1', 1: 1, 2: 0, 3: 0, 4: 0}\n"
          ],
          "name": "stdout"
        }
      ]
    },
    {
      "cell_type": "code",
      "metadata": {
        "id": "aABisgeGWf88",
        "colab_type": "code",
        "colab": {
          "base_uri": "https://localhost:8080/",
          "height": 50
        },
        "outputId": "3d9e9286-1d73-481f-d525-0b5c4daebe26"
      },
      "source": [
        "User1_onClick(2)"
      ],
      "execution_count": 5,
      "outputs": [
        {
          "output_type": "stream",
          "text": [
            "User1 pressed button  2   1 times\n",
            "{'Name': 'User1', 1: 1, 2: 1, 3: 0, 4: 0}\n"
          ],
          "name": "stdout"
        }
      ]
    },
    {
      "cell_type": "code",
      "metadata": {
        "colab_type": "code",
        "id": "8BLFSj2lXl22",
        "colab": {
          "base_uri": "https://localhost:8080/",
          "height": 50
        },
        "outputId": "f4b89200-053f-4a5c-8972-804174978334"
      },
      "source": [
        "User1_onClick(1)"
      ],
      "execution_count": 6,
      "outputs": [
        {
          "output_type": "stream",
          "text": [
            "User1 pressed button  1   2 times\n",
            "{'Name': 'User1', 1: 2, 2: 1, 3: 0, 4: 0}\n"
          ],
          "name": "stdout"
        }
      ]
    },
    {
      "cell_type": "code",
      "metadata": {
        "colab_type": "code",
        "id": "VHDCOQxMXmIK",
        "colab": {
          "base_uri": "https://localhost:8080/",
          "height": 50
        },
        "outputId": "d592807e-f757-476c-e9b4-28beda576cee"
      },
      "source": [
        "User1_onClick(1)"
      ],
      "execution_count": 7,
      "outputs": [
        {
          "output_type": "stream",
          "text": [
            "User1 pressed button  1   3 times\n",
            "{'Name': 'User1', 1: 3, 2: 1, 3: 0, 4: 0}\n"
          ],
          "name": "stdout"
        }
      ]
    },
    {
      "cell_type": "code",
      "metadata": {
        "colab_type": "code",
        "id": "dSyFa-0yXmPM",
        "colab": {
          "base_uri": "https://localhost:8080/",
          "height": 50
        },
        "outputId": "747fc217-c413-485e-8a0a-07bdaf140e2f"
      },
      "source": [
        "User1_onClick(3)"
      ],
      "execution_count": 8,
      "outputs": [
        {
          "output_type": "stream",
          "text": [
            "User1 pressed button  3   1 times\n",
            "{'Name': 'User1', 1: 3, 2: 1, 3: 1, 4: 0}\n"
          ],
          "name": "stdout"
        }
      ]
    },
    {
      "cell_type": "code",
      "metadata": {
        "colab_type": "code",
        "id": "v_AmEENtXmcZ",
        "colab": {
          "base_uri": "https://localhost:8080/",
          "height": 50
        },
        "outputId": "6d4f269a-c70e-44e2-b57d-b32b8e689c51"
      },
      "source": [
        "User1_onClick(4)"
      ],
      "execution_count": 9,
      "outputs": [
        {
          "output_type": "stream",
          "text": [
            "User1 pressed button  4   1 times\n",
            "{'Name': 'User1', 1: 3, 2: 1, 3: 1, 4: 1}\n"
          ],
          "name": "stdout"
        }
      ]
    },
    {
      "cell_type": "code",
      "metadata": {
        "colab_type": "code",
        "id": "UKHUofYWXmnI",
        "colab": {
          "base_uri": "https://localhost:8080/",
          "height": 50
        },
        "outputId": "1a0487d4-1c94-4df3-bee5-39e3811fd2cb"
      },
      "source": [
        "User1_onClick(2)"
      ],
      "execution_count": 10,
      "outputs": [
        {
          "output_type": "stream",
          "text": [
            "User1 pressed button  2   2 times\n",
            "{'Name': 'User1', 1: 3, 2: 2, 3: 1, 4: 1}\n"
          ],
          "name": "stdout"
        }
      ]
    },
    {
      "cell_type": "code",
      "metadata": {
        "id": "rfIDUVviX29K",
        "colab_type": "code",
        "colab": {}
      },
      "source": [
        "User2_onClick = counter_dict(user_2)"
      ],
      "execution_count": 11,
      "outputs": []
    },
    {
      "cell_type": "code",
      "metadata": {
        "colab_type": "code",
        "id": "rp3ZZVlIXmnj",
        "colab": {
          "base_uri": "https://localhost:8080/",
          "height": 50
        },
        "outputId": "c91a3a9a-9357-424f-d294-d28a9b8e18a1"
      },
      "source": [
        "User2_onClick(2)"
      ],
      "execution_count": 12,
      "outputs": [
        {
          "output_type": "stream",
          "text": [
            "User2 pressed button  2   1 times\n",
            "{'Name': 'User2', 1: 0, 2: 1, 3: 0, 4: 0}\n"
          ],
          "name": "stdout"
        }
      ]
    },
    {
      "cell_type": "code",
      "metadata": {
        "colab_type": "code",
        "id": "2EbaKsprXmcp",
        "colab": {
          "base_uri": "https://localhost:8080/",
          "height": 50
        },
        "outputId": "458491e4-e18e-4518-e74a-d3d2a1ab4ad2"
      },
      "source": [
        "User2_onClick(3)"
      ],
      "execution_count": 13,
      "outputs": [
        {
          "output_type": "stream",
          "text": [
            "User2 pressed button  3   1 times\n",
            "{'Name': 'User2', 1: 0, 2: 1, 3: 1, 4: 0}\n"
          ],
          "name": "stdout"
        }
      ]
    },
    {
      "cell_type": "code",
      "metadata": {
        "colab_type": "code",
        "id": "vE8c67JAXmPQ",
        "colab": {
          "base_uri": "https://localhost:8080/",
          "height": 50
        },
        "outputId": "05b7a972-c8f5-42e0-b52c-37c28de40397"
      },
      "source": [
        "User2_onClick(3)"
      ],
      "execution_count": 14,
      "outputs": [
        {
          "output_type": "stream",
          "text": [
            "User2 pressed button  3   2 times\n",
            "{'Name': 'User2', 1: 0, 2: 1, 3: 2, 4: 0}\n"
          ],
          "name": "stdout"
        }
      ]
    },
    {
      "cell_type": "code",
      "metadata": {
        "colab_type": "code",
        "id": "lCKCnNhCXmIj",
        "colab": {
          "base_uri": "https://localhost:8080/",
          "height": 50
        },
        "outputId": "1600c520-f182-49f4-9985-1ab2f879b8dc"
      },
      "source": [
        "User2_onClick(4)"
      ],
      "execution_count": 15,
      "outputs": [
        {
          "output_type": "stream",
          "text": [
            "User2 pressed button  4   1 times\n",
            "{'Name': 'User2', 1: 0, 2: 1, 3: 2, 4: 1}\n"
          ],
          "name": "stdout"
        }
      ]
    },
    {
      "cell_type": "code",
      "metadata": {
        "colab_type": "code",
        "id": "W4eRovb8Xl3U",
        "colab": {
          "base_uri": "https://localhost:8080/",
          "height": 50
        },
        "outputId": "807b3d39-ec32-4f11-f5c5-89c0cc5a2674"
      },
      "source": [
        "User2_onClick(1)"
      ],
      "execution_count": 16,
      "outputs": [
        {
          "output_type": "stream",
          "text": [
            "User2 pressed button  1   1 times\n",
            "{'Name': 'User2', 1: 1, 2: 1, 3: 2, 4: 1}\n"
          ],
          "name": "stdout"
        }
      ]
    }
  ]
}